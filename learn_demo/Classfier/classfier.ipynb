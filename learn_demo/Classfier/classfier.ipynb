{
 "cells": [
  {
   "cell_type": "code",
   "execution_count": 438,
   "metadata": {},
   "outputs": [],
   "source": [
    "import torch\n",
    "import torchvision\n",
    "import torchvision.transforms as transforms\n",
    "import numpy as np\n",
    "from PIL import Image"
   ]
  },
  {
   "cell_type": "markdown",
   "metadata": {},
   "source": [
    "# 构造数据集\n",
    "\n"
   ]
  },
  {
   "cell_type": "code",
   "execution_count": 439,
   "metadata": {},
   "outputs": [],
   "source": [
    "import csv\n",
    "import collections\n",
    "import os\n",
    "\n",
    "def createData(root,dataType,dataNum):\n",
    "    \"\"\"构造数据集\n",
    "    构造的图片存到root/{dataType}Data\n",
    "    图片地址和标签的csv文件存到 root/{dataType}DataInfo.csv\n",
    "    Args:\n",
    "        root:str\n",
    "            项目目录\n",
    "        dataType:str\n",
    "            'train'或者‘test'\n",
    "        dataNum:int\n",
    "            数据大小\n",
    "    Returns:\n",
    "    \"\"\"\n",
    "    dataInfo = []\n",
    "    dataPath = f'{root}/{dataType}Data'\n",
    "    if not os.path.exists(dataPath):\n",
    "        os.makedirs(dataPath)\n",
    "        \n",
    "    for i in range(dataNum):\n",
    "        # 创建0，1 数组\n",
    "        imageArray=np.random.randint(0,2,(4,4))\n",
    "        # 计算0，1数量得到标签\n",
    "        allBlack = collections.Counter(imageArray.flatten())[0]\n",
    "        innerBlack = collections.Counter(imageArray[1:3,1:3].flatten())[0]\n",
    "        label = 0 if (allBlack-innerBlack)>innerBlack else 1\n",
    "        # 将图片保存\n",
    "        path = f'{dataPath}/{i}.jpg'\n",
    "        dataInfo.append([path,label])\n",
    "        im = Image.fromarray(np.uint8(imageArray*255))\n",
    "        im = im.convert('1') \n",
    "        im.save(path)\n",
    "    # 将图片地址和标签存入csv文件\n",
    "    filePath = f'{root}/{dataType}DataInfo.csv'\n",
    "    with open(filePath, 'w') as f:\n",
    "        writer = csv.writer(f)\n",
    "        writer.writerows(dataInfo)\n"
   ]
  },
  {
   "cell_type": "code",
   "execution_count": 440,
   "metadata": {
    "scrolled": false
   },
   "outputs": [],
   "source": [
    "root=r'/Users/null/Documents/PythonProject/Classfier'"
   ]
  },
  {
   "cell_type": "markdown",
   "metadata": {},
   "source": [
    "## 构造训练数据集"
   ]
  },
  {
   "cell_type": "code",
   "execution_count": 441,
   "metadata": {},
   "outputs": [],
   "source": [
    "createData(root=root,dataType='train',dataNum=20000)"
   ]
  },
  {
   "cell_type": "markdown",
   "metadata": {},
   "source": [
    "## 构造测试数据集"
   ]
  },
  {
   "cell_type": "code",
   "execution_count": 442,
   "metadata": {},
   "outputs": [],
   "source": [
    "createData(root=root,dataType='test',dataNum=10000)"
   ]
  },
  {
   "cell_type": "markdown",
   "metadata": {},
   "source": [
    "## 读取数据集\n"
   ]
  },
  {
   "cell_type": "code",
   "execution_count": 443,
   "metadata": {},
   "outputs": [],
   "source": [
    "class MyDataset(torch.utils.data.Dataset):\n",
    "\n",
    "    def __init__(self, root, datacsv, transform=None):\n",
    "        super(MyDataset, self).__init__()\n",
    "        file = open(f'{root}/{datacsv}', 'r')\n",
    "        imgs = []\n",
    "        # 读取csv信息到imgs列表\n",
    "        for line in file:\n",
    "            line = line.rstrip()\n",
    "            words = line.split(',')\n",
    "            imgs.append((words[0], int(words[1])))\n",
    "        self.imgs = imgs\n",
    "        self.transform = transform\n",
    "        \n",
    "    def __getitem__(self, index):\n",
    "        path, label = self.imgs[index]\n",
    "        img = Image.open(path).convert('1')\n",
    "\n",
    "        if self.transform is not None:\n",
    "            img = self.transform(img)\n",
    "        return img, label\n",
    "\n",
    "    def __len__(self):\n",
    "        return len(self.imgs)"
   ]
  },
  {
   "cell_type": "code",
   "execution_count": 533,
   "metadata": {
    "scrolled": true
   },
   "outputs": [],
   "source": [
    "trainData=MyDataset(root = root,datacsv='trainDataInfo.csv', transform=transforms.ToTensor())\n",
    "testData=MyDataset(root = root,datacsv='testDataInfo.csv', transform=transforms.ToTensor())"
   ]
  },
  {
   "cell_type": "markdown",
   "metadata": {},
   "source": [
    "## 处理数据集使得数据集不偏斜"
   ]
  },
  {
   "cell_type": "code",
   "execution_count": 534,
   "metadata": {},
   "outputs": [],
   "source": [
    "import itertools\n",
    "\n",
    "def chooseData(dataset,scale):\n",
    "    # 将类别为1的排序到前面\n",
    "    dataset.imgs.sort(key=lambda x:x[1],reverse=True)\n",
    "    # 获取类别1的数目 ，取scale倍的数组，得数据不那么偏斜\n",
    "    trueNum =collections.Counter(itertools.chain.from_iterable(dataset.imgs))[1]\n",
    "    end = trueNum*scale if trueNum*scale<=len(dataset) else len(dataset)\n",
    "    dataset.imgs=dataset.imgs[:end]"
   ]
  },
  {
   "cell_type": "code",
   "execution_count": 778,
   "metadata": {},
   "outputs": [
    {
     "data": {
      "text/plain": [
       "(2250, 1122)"
      ]
     },
     "execution_count": 778,
     "metadata": {},
     "output_type": "execute_result"
    }
   ],
   "source": [
    "scale = 4\n",
    "chooseData(trainData,scale)\n",
    "chooseData(testData,scale)\n",
    "len(trainData),len(testData)"
   ]
  },
  {
   "cell_type": "code",
   "execution_count": 787,
   "metadata": {},
   "outputs": [],
   "source": [
    "import torch.utils.data as Data\n",
    "\n",
    "# 超参数\n",
    "batchSize = 50\n",
    "lr = 0.1\n",
    "numEpochs = 20\n",
    "\n",
    "trainIter = Data.DataLoader(dataset=trainData, batch_size=batchSize, shuffle=True)\n",
    "testIter = Data.DataLoader(dataset=testData, batch_size=batchSize)"
   ]
  },
  {
   "cell_type": "markdown",
   "metadata": {},
   "source": [
    "## 定义模型"
   ]
  },
  {
   "cell_type": "code",
   "execution_count": 718,
   "metadata": {},
   "outputs": [],
   "source": [
    "from torch import nn\n",
    "from torch.autograd import Variable\n",
    "from torch.nn import Module,Linear,Sequential,Conv2d,ReLU,ConstantPad2d\n",
    "import torch.nn.functional as F"
   ]
  },
  {
   "cell_type": "code",
   "execution_count": 746,
   "metadata": {},
   "outputs": [],
   "source": [
    "class Net(Module):   \n",
    "    def __init__(self):\n",
    "        super(Net, self).__init__()\n",
    "\n",
    "        self.cnnLayers = Sequential(\n",
    "            # padding添加1层常数1,设定卷积核为2*2\n",
    "            ConstantPad2d(1, 1),\n",
    "            Conv2d(1, 1, kernel_size=2, stride=2,bias=True)\n",
    "        )\n",
    "        self.linearLayers = Sequential(\n",
    "            Linear(9, 2)\n",
    "        )\n",
    "\n",
    "    def forward(self, x):\n",
    "        x = self.cnnLayers(x)\n",
    "        x = x.view(x.shape[0], -1)\n",
    "        x = self.linearLayers(x)\n",
    "        return x\n"
   ]
  },
  {
   "cell_type": "code",
   "execution_count": 720,
   "metadata": {},
   "outputs": [],
   "source": [
    "class Net2(Module):   \n",
    "    def __init__(self):\n",
    "        super(Net2, self).__init__()\n",
    "\n",
    "        self.cnnLayers = Sequential(\n",
    "            Conv2d(1, 1, kernel_size=1, stride=1,bias=True)\n",
    "        )\n",
    "        self.linearLayers = Sequential(\n",
    "            ReLU(),\n",
    "            Linear(16, 2)\n",
    "        )\n",
    "\n",
    "    def forward(self, x):\n",
    "        x = self.cnnLayers(x)\n",
    "        x = x.view(x.shape[0], -1)\n",
    "        x = self.linearLayers(x)\n",
    "        return x"
   ]
  },
  {
   "cell_type": "markdown",
   "metadata": {},
   "source": [
    "## 定义损失函数"
   ]
  },
  {
   "cell_type": "code",
   "execution_count": 788,
   "metadata": {},
   "outputs": [],
   "source": [
    "# 交叉熵损失函数\n",
    "loss = nn.CrossEntropyLoss()"
   ]
  },
  {
   "cell_type": "code",
   "execution_count": 722,
   "metadata": {},
   "outputs": [],
   "source": [
    "loss2 = nn.CrossEntropyLoss()"
   ]
  },
  {
   "cell_type": "markdown",
   "metadata": {},
   "source": [
    "##  定义优化算法"
   ]
  },
  {
   "cell_type": "code",
   "execution_count": 789,
   "metadata": {
    "scrolled": true
   },
   "outputs": [],
   "source": [
    "net = Net()\n",
    "optimizer = torch.optim.SGD(net.parameters(),lr = lr)"
   ]
  },
  {
   "cell_type": "code",
   "execution_count": 758,
   "metadata": {},
   "outputs": [],
   "source": [
    "net2 = Net2()\n",
    "optimizer2 = torch.optim.SGD(net2.parameters(),lr = lr)"
   ]
  },
  {
   "cell_type": "markdown",
   "metadata": {},
   "source": [
    "## 训练模型"
   ]
  },
  {
   "cell_type": "code",
   "execution_count": 725,
   "metadata": {},
   "outputs": [],
   "source": [
    "# 计算准确率\n",
    "def evaluateAccuracy(dataIter, net):\n",
    "    accSum, n = 0.0, 0\n",
    "    with torch.no_grad():\n",
    "        for X, y in dataIter:\n",
    "            accSum += (net(X).argmax(dim=1) == y).float().sum().item()\n",
    "            n += y.shape[0]\n",
    "    return accSum / n"
   ]
  },
  {
   "cell_type": "code",
   "execution_count": 726,
   "metadata": {},
   "outputs": [],
   "source": [
    "def train(net, trainIter, testIter, loss, numEpochs, batchSize,\n",
    "             optimizer):\n",
    "    for epoch in range(numEpochs):\n",
    "        trainLossSum, trainAccSum, n = 0.0, 0.0, 0\n",
    "        for X,y in trainIter:\n",
    "            yHat = net(X)\n",
    "            l = loss(yHat,y).sum()\n",
    "            optimizer.zero_grad()\n",
    "            l.backward()\n",
    "            optimizer.step()\n",
    "            # 计算训练准确度和loss\n",
    "            trainLossSum += l.item()\n",
    "            trainAccSum += (yHat.argmax(dim=1) == y).sum().item()\n",
    "            n += y.shape[0]\n",
    "        # 评估测试准确度\n",
    "        testAcc = evaluateAccuracy(testIter, net)\n",
    "        print('epoch {:d}, loss {:.4f}, train acc {:.3f}, test acc {:.3f}'.format(epoch + 1, trainLossSum / n, trainAccSum / n, testAcc))   \n"
   ]
  },
  {
   "cell_type": "markdown",
   "metadata": {},
   "source": [
    "## Net模型训练\n"
   ]
  },
  {
   "cell_type": "code",
   "execution_count": 790,
   "metadata": {
    "scrolled": true
   },
   "outputs": [
    {
     "name": "stdout",
     "output_type": "stream",
     "text": [
      "epoch 1, loss 0.0128, train acc 0.667, test acc 0.667\n",
      "epoch 2, loss 0.0118, train acc 0.683, test acc 0.760\n",
      "epoch 3, loss 0.0104, train acc 0.742, test acc 0.807\n",
      "epoch 4, loss 0.0093, train acc 0.769, test acc 0.772\n",
      "epoch 5, loss 0.0085, train acc 0.797, test acc 0.745\n",
      "epoch 6, loss 0.0084, train acc 0.798, test acc 0.807\n",
      "epoch 7, loss 0.0082, train acc 0.804, test acc 0.816\n",
      "epoch 8, loss 0.0078, train acc 0.816, test acc 0.812\n",
      "epoch 9, loss 0.0077, train acc 0.818, test acc 0.817\n",
      "epoch 10, loss 0.0074, train acc 0.824, test acc 0.826\n",
      "epoch 11, loss 0.0072, train acc 0.836, test acc 0.819\n",
      "epoch 12, loss 0.0075, train acc 0.823, test acc 0.829\n",
      "epoch 13, loss 0.0071, train acc 0.839, test acc 0.797\n",
      "epoch 14, loss 0.0067, train acc 0.849, test acc 0.824\n",
      "epoch 15, loss 0.0069, train acc 0.848, test acc 0.843\n",
      "epoch 16, loss 0.0064, train acc 0.864, test acc 0.851\n",
      "epoch 17, loss 0.0062, train acc 0.867, test acc 0.780\n",
      "epoch 18, loss 0.0060, train acc 0.871, test acc 0.864\n",
      "epoch 19, loss 0.0057, train acc 0.881, test acc 0.890\n",
      "epoch 20, loss 0.0055, train acc 0.885, test acc 0.897\n"
     ]
    }
   ],
   "source": [
    "train(net, trainIter, testIter, loss, numEpochs, batchSize,optimizer)"
   ]
  },
  {
   "cell_type": "markdown",
   "metadata": {},
   "source": [
    "## Net2模型训练"
   ]
  },
  {
   "cell_type": "code",
   "execution_count": 728,
   "metadata": {},
   "outputs": [
    {
     "name": "stdout",
     "output_type": "stream",
     "text": [
      "epoch 1, loss 0.0119, train acc 0.638, test acc 0.676\n",
      "epoch 2, loss 0.0079, train acc 0.823, test acc 0.986\n",
      "epoch 3, loss 0.0046, train acc 0.987, test acc 0.977\n",
      "epoch 4, loss 0.0030, train acc 0.983, test acc 0.973\n",
      "epoch 5, loss 0.0023, train acc 0.981, test acc 0.976\n",
      "epoch 6, loss 0.0019, train acc 0.980, test acc 0.988\n",
      "epoch 7, loss 0.0016, train acc 0.984, test acc 0.984\n",
      "epoch 8, loss 0.0014, train acc 0.985, test acc 0.986\n",
      "epoch 9, loss 0.0013, train acc 0.987, test acc 0.992\n",
      "epoch 10, loss 0.0011, train acc 0.989, test acc 0.993\n",
      "epoch 11, loss 0.0010, train acc 0.989, test acc 0.996\n",
      "epoch 12, loss 0.0010, train acc 0.992, test acc 0.994\n",
      "epoch 13, loss 0.0009, train acc 0.993, test acc 0.994\n",
      "epoch 14, loss 0.0008, train acc 0.995, test acc 0.996\n",
      "epoch 15, loss 0.0008, train acc 0.994, test acc 0.998\n"
     ]
    }
   ],
   "source": [
    "# batchSize = 50 \n",
    "# lr = 0.1\n",
    "# numEpochs = 15 下得出的结果\n",
    "train(net2, trainIter, testIter, loss2, numEpochs, batchSize,optimizer2)"
   ]
  },
  {
   "cell_type": "markdown",
   "metadata": {},
   "source": [
    "## 测试"
   ]
  },
  {
   "cell_type": "code",
   "execution_count": 729,
   "metadata": {},
   "outputs": [],
   "source": [
    "test = torch.Tensor([[[[0,0,0,0],[0,1,1,0],[0,1,1,0],[0,0,0,0]]],\n",
    "                  [[[1,1,1,1],[1,0,0,1],[1,0,0,1],[1,1,1,1]]],\n",
    "                  [[[0,1,0,1],[1,0,0,1],[1,0,0,1],[0,0,0,1]]],\n",
    "                  [[[0,1,1,1],[1,0,0,1],[1,0,0,1],[0,0,0,1]]],\n",
    "                  [[[0,0,1,1],[1,0,0,1],[1,0,0,1],[1,0,1,0]]],\n",
    "                  [[[0,0,1,0],[0,1,0,1],[0,0,1,1],[1,0,1,0]]],\n",
    "                  [[[1,1,1,0],[1,0,0,1],[1,0,1,1],[1,0,1,1]]]\n",
    "                 ])\n",
    "\n",
    "target=torch.Tensor([0,1,0,1,1,0,1])"
   ]
  },
  {
   "cell_type": "code",
   "execution_count": 730,
   "metadata": {},
   "outputs": [
    {
     "data": {
      "text/plain": [
       "tensor([[[[0., 0., 0., 0.],\n",
       "          [0., 1., 1., 0.],\n",
       "          [0., 1., 1., 0.],\n",
       "          [0., 0., 0., 0.]]],\n",
       "\n",
       "\n",
       "        [[[1., 1., 1., 1.],\n",
       "          [1., 0., 0., 1.],\n",
       "          [1., 0., 0., 1.],\n",
       "          [1., 1., 1., 1.]]],\n",
       "\n",
       "\n",
       "        [[[0., 1., 0., 1.],\n",
       "          [1., 0., 0., 1.],\n",
       "          [1., 0., 0., 1.],\n",
       "          [0., 0., 0., 1.]]],\n",
       "\n",
       "\n",
       "        [[[0., 1., 1., 1.],\n",
       "          [1., 0., 0., 1.],\n",
       "          [1., 0., 0., 1.],\n",
       "          [0., 0., 0., 1.]]],\n",
       "\n",
       "\n",
       "        [[[0., 0., 1., 1.],\n",
       "          [1., 0., 0., 1.],\n",
       "          [1., 0., 0., 1.],\n",
       "          [1., 0., 1., 0.]]],\n",
       "\n",
       "\n",
       "        [[[0., 0., 1., 0.],\n",
       "          [0., 1., 0., 1.],\n",
       "          [0., 0., 1., 1.],\n",
       "          [1., 0., 1., 0.]]],\n",
       "\n",
       "\n",
       "        [[[1., 1., 1., 0.],\n",
       "          [1., 0., 0., 1.],\n",
       "          [1., 0., 1., 1.],\n",
       "          [1., 0., 1., 1.]]]])"
      ]
     },
     "execution_count": 730,
     "metadata": {},
     "output_type": "execute_result"
    }
   ],
   "source": [
    "test"
   ]
  },
  {
   "cell_type": "code",
   "execution_count": 791,
   "metadata": {},
   "outputs": [],
   "source": [
    "with torch.no_grad():\n",
    "    output = net(test)\n",
    "    output2 = net2(test)\n",
    "predictions =output.argmax(dim=1)\n",
    "predictions2 =output2.argmax(dim=1)\n"
   ]
  },
  {
   "cell_type": "code",
   "execution_count": 792,
   "metadata": {},
   "outputs": [
    {
     "name": "stdout",
     "output_type": "stream",
     "text": [
      "Net测试结果tensor([ True,  True, False,  True,  True,  True,  True])\n",
      "Net2测试结果tensor([False,  True, False,  True,  True, False,  True])\n"
     ]
    }
   ],
   "source": [
    "# 比较结果\n",
    "print(f'Net测试结果{predictions.eq(target)}')\n",
    "print(f'Net2测试结果{predictions2.eq(target)}')\n"
   ]
  }
 ],
 "metadata": {
  "kernelspec": {
   "display_name": "Python 3",
   "language": "python",
   "name": "python3"
  },
  "language_info": {
   "codemirror_mode": {
    "name": "ipython",
    "version": 3
   },
   "file_extension": ".py",
   "mimetype": "text/x-python",
   "name": "python",
   "nbconvert_exporter": "python",
   "pygments_lexer": "ipython3",
   "version": "3.6.10"
  }
 },
 "nbformat": 4,
 "nbformat_minor": 4
}
